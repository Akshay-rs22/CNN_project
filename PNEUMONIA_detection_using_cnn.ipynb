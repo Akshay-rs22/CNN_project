{
  "nbformat": 4,
  "nbformat_minor": 0,
  "metadata": {
    "colab": {
      "name": "PNEUMONIA detection using cnn.ipynb",
      "provenance": [],
      "collapsed_sections": []
    },
    "kernelspec": {
      "name": "python3",
      "display_name": "Python 3"
    },
    "language_info": {
      "name": "python"
    },
    "accelerator": "GPU",
    "widgets": {
      "application/vnd.jupyter.widget-state+json": {
        "071dc204c32b47a19cd0ba1687e24276": {
          "model_module": "@jupyter-widgets/controls",
          "model_name": "HBoxModel",
          "model_module_version": "1.5.0",
          "state": {
            "_view_name": "HBoxView",
            "_dom_classes": [],
            "_model_name": "HBoxModel",
            "_view_module": "@jupyter-widgets/controls",
            "_model_module_version": "1.5.0",
            "_view_count": null,
            "_view_module_version": "1.5.0",
            "box_style": "",
            "layout": "IPY_MODEL_589ee27639a44bca89f9d3f148e8fe82",
            "_model_module": "@jupyter-widgets/controls",
            "children": [
              "IPY_MODEL_d39db2f55ce041b8b54dae0b1ee22c41",
              "IPY_MODEL_667a45d0a9b6409db8b57583284a568f",
              "IPY_MODEL_0a2a955911de4cc8b6f1658b9151860a"
            ]
          }
        },
        "589ee27639a44bca89f9d3f148e8fe82": {
          "model_module": "@jupyter-widgets/base",
          "model_name": "LayoutModel",
          "model_module_version": "1.2.0",
          "state": {
            "_view_name": "LayoutView",
            "grid_template_rows": null,
            "right": null,
            "justify_content": null,
            "_view_module": "@jupyter-widgets/base",
            "overflow": null,
            "_model_module_version": "1.2.0",
            "_view_count": null,
            "flex_flow": null,
            "width": null,
            "min_width": null,
            "border": null,
            "align_items": null,
            "bottom": null,
            "_model_module": "@jupyter-widgets/base",
            "top": null,
            "grid_column": null,
            "overflow_y": null,
            "overflow_x": null,
            "grid_auto_flow": null,
            "grid_area": null,
            "grid_template_columns": null,
            "flex": null,
            "_model_name": "LayoutModel",
            "justify_items": null,
            "grid_row": null,
            "max_height": null,
            "align_content": null,
            "visibility": null,
            "align_self": null,
            "height": null,
            "min_height": null,
            "padding": null,
            "grid_auto_rows": null,
            "grid_gap": null,
            "max_width": null,
            "order": null,
            "_view_module_version": "1.2.0",
            "grid_template_areas": null,
            "object_position": null,
            "object_fit": null,
            "grid_auto_columns": null,
            "margin": null,
            "display": null,
            "left": null
          }
        },
        "d39db2f55ce041b8b54dae0b1ee22c41": {
          "model_module": "@jupyter-widgets/controls",
          "model_name": "HTMLModel",
          "model_module_version": "1.5.0",
          "state": {
            "_view_name": "HTMLView",
            "style": "IPY_MODEL_fa447b19af5d4cf4a0c6932d49dbe84f",
            "_dom_classes": [],
            "description": "",
            "_model_name": "HTMLModel",
            "placeholder": "​",
            "_view_module": "@jupyter-widgets/controls",
            "_model_module_version": "1.5.0",
            "value": "100%",
            "_view_count": null,
            "_view_module_version": "1.5.0",
            "description_tooltip": null,
            "_model_module": "@jupyter-widgets/controls",
            "layout": "IPY_MODEL_bf8da6c0fcb74ec587fd5e790a416dcf"
          }
        },
        "667a45d0a9b6409db8b57583284a568f": {
          "model_module": "@jupyter-widgets/controls",
          "model_name": "FloatProgressModel",
          "model_module_version": "1.5.0",
          "state": {
            "_view_name": "ProgressView",
            "style": "IPY_MODEL_2b7a440e31674b8bb6f86475cc6e6457",
            "_dom_classes": [],
            "description": "",
            "_model_name": "FloatProgressModel",
            "bar_style": "success",
            "max": 5216,
            "_view_module": "@jupyter-widgets/controls",
            "_model_module_version": "1.5.0",
            "value": 5216,
            "_view_count": null,
            "_view_module_version": "1.5.0",
            "orientation": "horizontal",
            "min": 0,
            "description_tooltip": null,
            "_model_module": "@jupyter-widgets/controls",
            "layout": "IPY_MODEL_563a17e8835c40f3a301dc99344583a9"
          }
        },
        "0a2a955911de4cc8b6f1658b9151860a": {
          "model_module": "@jupyter-widgets/controls",
          "model_name": "HTMLModel",
          "model_module_version": "1.5.0",
          "state": {
            "_view_name": "HTMLView",
            "style": "IPY_MODEL_9d94909d5f594a948becc734ab6b2040",
            "_dom_classes": [],
            "description": "",
            "_model_name": "HTMLModel",
            "placeholder": "​",
            "_view_module": "@jupyter-widgets/controls",
            "_model_module_version": "1.5.0",
            "value": " 5216/5216 [09:55&lt;00:00,  4.32it/s]",
            "_view_count": null,
            "_view_module_version": "1.5.0",
            "description_tooltip": null,
            "_model_module": "@jupyter-widgets/controls",
            "layout": "IPY_MODEL_caf0832f71d54fc2902e6d8b9c3b934f"
          }
        },
        "fa447b19af5d4cf4a0c6932d49dbe84f": {
          "model_module": "@jupyter-widgets/controls",
          "model_name": "DescriptionStyleModel",
          "model_module_version": "1.5.0",
          "state": {
            "_view_name": "StyleView",
            "_model_name": "DescriptionStyleModel",
            "description_width": "",
            "_view_module": "@jupyter-widgets/base",
            "_model_module_version": "1.5.0",
            "_view_count": null,
            "_view_module_version": "1.2.0",
            "_model_module": "@jupyter-widgets/controls"
          }
        },
        "bf8da6c0fcb74ec587fd5e790a416dcf": {
          "model_module": "@jupyter-widgets/base",
          "model_name": "LayoutModel",
          "model_module_version": "1.2.0",
          "state": {
            "_view_name": "LayoutView",
            "grid_template_rows": null,
            "right": null,
            "justify_content": null,
            "_view_module": "@jupyter-widgets/base",
            "overflow": null,
            "_model_module_version": "1.2.0",
            "_view_count": null,
            "flex_flow": null,
            "width": null,
            "min_width": null,
            "border": null,
            "align_items": null,
            "bottom": null,
            "_model_module": "@jupyter-widgets/base",
            "top": null,
            "grid_column": null,
            "overflow_y": null,
            "overflow_x": null,
            "grid_auto_flow": null,
            "grid_area": null,
            "grid_template_columns": null,
            "flex": null,
            "_model_name": "LayoutModel",
            "justify_items": null,
            "grid_row": null,
            "max_height": null,
            "align_content": null,
            "visibility": null,
            "align_self": null,
            "height": null,
            "min_height": null,
            "padding": null,
            "grid_auto_rows": null,
            "grid_gap": null,
            "max_width": null,
            "order": null,
            "_view_module_version": "1.2.0",
            "grid_template_areas": null,
            "object_position": null,
            "object_fit": null,
            "grid_auto_columns": null,
            "margin": null,
            "display": null,
            "left": null
          }
        },
        "2b7a440e31674b8bb6f86475cc6e6457": {
          "model_module": "@jupyter-widgets/controls",
          "model_name": "ProgressStyleModel",
          "model_module_version": "1.5.0",
          "state": {
            "_view_name": "StyleView",
            "_model_name": "ProgressStyleModel",
            "description_width": "",
            "_view_module": "@jupyter-widgets/base",
            "_model_module_version": "1.5.0",
            "_view_count": null,
            "_view_module_version": "1.2.0",
            "bar_color": null,
            "_model_module": "@jupyter-widgets/controls"
          }
        },
        "563a17e8835c40f3a301dc99344583a9": {
          "model_module": "@jupyter-widgets/base",
          "model_name": "LayoutModel",
          "model_module_version": "1.2.0",
          "state": {
            "_view_name": "LayoutView",
            "grid_template_rows": null,
            "right": null,
            "justify_content": null,
            "_view_module": "@jupyter-widgets/base",
            "overflow": null,
            "_model_module_version": "1.2.0",
            "_view_count": null,
            "flex_flow": null,
            "width": null,
            "min_width": null,
            "border": null,
            "align_items": null,
            "bottom": null,
            "_model_module": "@jupyter-widgets/base",
            "top": null,
            "grid_column": null,
            "overflow_y": null,
            "overflow_x": null,
            "grid_auto_flow": null,
            "grid_area": null,
            "grid_template_columns": null,
            "flex": null,
            "_model_name": "LayoutModel",
            "justify_items": null,
            "grid_row": null,
            "max_height": null,
            "align_content": null,
            "visibility": null,
            "align_self": null,
            "height": null,
            "min_height": null,
            "padding": null,
            "grid_auto_rows": null,
            "grid_gap": null,
            "max_width": null,
            "order": null,
            "_view_module_version": "1.2.0",
            "grid_template_areas": null,
            "object_position": null,
            "object_fit": null,
            "grid_auto_columns": null,
            "margin": null,
            "display": null,
            "left": null
          }
        },
        "9d94909d5f594a948becc734ab6b2040": {
          "model_module": "@jupyter-widgets/controls",
          "model_name": "DescriptionStyleModel",
          "model_module_version": "1.5.0",
          "state": {
            "_view_name": "StyleView",
            "_model_name": "DescriptionStyleModel",
            "description_width": "",
            "_view_module": "@jupyter-widgets/base",
            "_model_module_version": "1.5.0",
            "_view_count": null,
            "_view_module_version": "1.2.0",
            "_model_module": "@jupyter-widgets/controls"
          }
        },
        "caf0832f71d54fc2902e6d8b9c3b934f": {
          "model_module": "@jupyter-widgets/base",
          "model_name": "LayoutModel",
          "model_module_version": "1.2.0",
          "state": {
            "_view_name": "LayoutView",
            "grid_template_rows": null,
            "right": null,
            "justify_content": null,
            "_view_module": "@jupyter-widgets/base",
            "overflow": null,
            "_model_module_version": "1.2.0",
            "_view_count": null,
            "flex_flow": null,
            "width": null,
            "min_width": null,
            "border": null,
            "align_items": null,
            "bottom": null,
            "_model_module": "@jupyter-widgets/base",
            "top": null,
            "grid_column": null,
            "overflow_y": null,
            "overflow_x": null,
            "grid_auto_flow": null,
            "grid_area": null,
            "grid_template_columns": null,
            "flex": null,
            "_model_name": "LayoutModel",
            "justify_items": null,
            "grid_row": null,
            "max_height": null,
            "align_content": null,
            "visibility": null,
            "align_self": null,
            "height": null,
            "min_height": null,
            "padding": null,
            "grid_auto_rows": null,
            "grid_gap": null,
            "max_width": null,
            "order": null,
            "_view_module_version": "1.2.0",
            "grid_template_areas": null,
            "object_position": null,
            "object_fit": null,
            "grid_auto_columns": null,
            "margin": null,
            "display": null,
            "left": null
          }
        }
      }
    }
  },
  "cells": [
    {
      "cell_type": "code",
      "execution_count": null,
      "metadata": {
        "colab": {
          "base_uri": "https://localhost:8080/"
        },
        "id": "h6fE7M3s8NH1",
        "outputId": "bdd13edf-1059-4170-bf30-95eca03fb896"
      },
      "outputs": [
        {
          "output_type": "stream",
          "name": "stdout",
          "text": [
            "Mounted at /content/drive\n"
          ]
        }
      ],
      "source": [
        "from google.colab import drive\n",
        "drive.mount('/content/drive')"
      ]
    },
    {
      "cell_type": "code",
      "source": [
        "import os \n",
        "os.chdir(\"/content/drive/MyDrive/AI/dataset/pneumonia/chest_xray\")"
      ],
      "metadata": {
        "id": "DgFVHMWH8Qm6"
      },
      "execution_count": null,
      "outputs": []
    },
    {
      "cell_type": "code",
      "source": [
        "pwd"
      ],
      "metadata": {
        "colab": {
          "base_uri": "https://localhost:8080/",
          "height": 36
        },
        "id": "eTAa2hIM9A-0",
        "outputId": "6370934f-7c41-45b8-f392-10a0a2d4a756"
      },
      "execution_count": null,
      "outputs": [
        {
          "output_type": "execute_result",
          "data": {
            "application/vnd.google.colaboratory.intrinsic+json": {
              "type": "string"
            },
            "text/plain": [
              "'/content/drive/MyDrive/AI/dataset/pneumonia/chest_xray'"
            ]
          },
          "metadata": {},
          "execution_count": 3
        }
      ]
    },
    {
      "cell_type": "code",
      "source": [
        "!ls"
      ],
      "metadata": {
        "colab": {
          "base_uri": "https://localhost:8080/"
        },
        "id": "ATys5WRN9de_",
        "outputId": "faba0171-1993-47bd-a667-090f1ad670e4"
      },
      "execution_count": null,
      "outputs": [
        {
          "output_type": "stream",
          "name": "stdout",
          "text": [
            "model_PNEUMONIA.h5  output  test  train  val\n"
          ]
        }
      ]
    },
    {
      "cell_type": "code",
      "source": [
        ""
      ],
      "metadata": {
        "id": "eQaVS4q09gYZ"
      },
      "execution_count": null,
      "outputs": []
    },
    {
      "cell_type": "code",
      "source": [
        "# import the necessary packages\n",
        "import tensorflow as tf\n",
        "from tensorflow.keras.models import Sequential\n",
        "from tensorflow.keras.layers import Conv2D\n",
        "from tensorflow.keras.layers import MaxPooling2D\n",
        "from tensorflow.keras.layers import Activation\n",
        "from tensorflow.keras.layers import Flatten\n",
        "from tensorflow.keras.layers import Dense\n",
        "from tensorflow.keras import backend as K\n",
        "from tensorflow.keras.preprocessing.image import ImageDataGenerator\n",
        "from tensorflow.keras.optimizers import Adam\n",
        "from tensorflow.keras.preprocessing.image import img_to_array\n",
        "from tensorflow.keras.utils import to_categorical\n",
        "\n",
        "from sklearn.model_selection import train_test_split\n",
        "\n",
        "from imutils import paths\n",
        "import matplotlib.pyplot as plt\n",
        "import numpy as np\n",
        "import random\n",
        "import cv2\n",
        "import os\n",
        "\n",
        "import warnings\n",
        "from tqdm import tqdm_notebook as tqdm\n",
        "import itertools\n",
        "\n",
        "print(tf.__version__)\n",
        "\n",
        "warnings.filterwarnings(\"ignore\")\n",
        "SEED = 42   # set random seed\n"
      ],
      "metadata": {
        "colab": {
          "base_uri": "https://localhost:8080/"
        },
        "id": "rqQwEipF9j0a",
        "outputId": "68574af1-903a-45e0-c9e5-c5b1152c1825"
      },
      "execution_count": null,
      "outputs": [
        {
          "output_type": "stream",
          "name": "stdout",
          "text": [
            "2.8.0\n"
          ]
        }
      ]
    },
    {
      "cell_type": "code",
      "source": [
        "a=list(paths.list_images(\"train\")) #define data path"
      ],
      "metadata": {
        "id": "fj2fq2I5949x"
      },
      "execution_count": null,
      "outputs": []
    },
    {
      "cell_type": "code",
      "source": [
        "a[22]"
      ],
      "metadata": {
        "colab": {
          "base_uri": "https://localhost:8080/",
          "height": 36
        },
        "id": "bJ5h0Rry-Kfj",
        "outputId": "2f00256a-4300-4751-bbbd-63b42543f886"
      },
      "execution_count": null,
      "outputs": [
        {
          "output_type": "execute_result",
          "data": {
            "application/vnd.google.colaboratory.intrinsic+json": {
              "type": "string"
            },
            "text/plain": [
              "'train/NORMAL/IM-0545-0001-0002.jpeg'"
            ]
          },
          "metadata": {},
          "execution_count": 10
        }
      ]
    },
    {
      "cell_type": "code",
      "source": [
        "# create CNN Model\n",
        "\n",
        "class LeNet:\n",
        "    @staticmethod\n",
        "    def build(width, height, depth, classes):\n",
        "        # initialize the model\n",
        "        model = Sequential()\n",
        "        inputShape = (height, width, depth)\n",
        "\n",
        "        # if we are using \"channels first\", update the input shape\n",
        "        if K.image_data_format() == \"channels_first\":\n",
        "            inputShape = (depth, height, width)\n",
        "\n",
        "        # first set of CONV => RELU => POOL layers\n",
        "        model.add(Conv2D(20, (5, 5), padding=\"same\",input_shape=inputShape))\n",
        "        model.add(Activation(\"relu\"))\n",
        "        model.add(MaxPooling2D(pool_size=(2, 2), strides=(2, 2)))\n",
        "\n",
        "        # second set of CONV => RELU => POOL layers\n",
        "        model.add(Conv2D(50, (5, 5), padding=\"same\"))\n",
        "        model.add(Activation(\"relu\"))\n",
        "        model.add(MaxPooling2D(pool_size=(2, 2), strides=(2, 2)))\n",
        "\n",
        "        # first (and only) set of FC => RELU layers\n",
        "        model.add(Flatten())\n",
        "        model.add(Dense(500))\n",
        "        model.add(Activation(\"relu\"))\n",
        "\n",
        "      \n",
        "        model.add(Dense(100))\n",
        "        model.add(Activation(\"relu\"))\n",
        "\n",
        "        # softmax classifier\n",
        "        model.add(Dense(2))\n",
        "        model.add(Activation(\"softmax\"))\n",
        "\n",
        "        # return the constructed network architecture\n",
        "        return model"
      ],
      "metadata": {
        "id": "8B2s0e_S-Oim"
      },
      "execution_count": null,
      "outputs": []
    },
    {
      "cell_type": "code",
      "source": [
        "# initialize the data and labels\n",
        "print(\"[INFO] loading images...\")\n",
        "data = []\n",
        "labels = []\n",
        "\n",
        "# grab the image paths and randomly shuffle them\n",
        "imagePaths = sorted(list(paths.list_images(\"train\")))\n",
        "\n",
        "random.seed(42)\n",
        "random.shuffle(imagePaths)\n",
        "\n",
        "# progress bar \n",
        "with tqdm(total=len(imagePaths)) as pbar:\n",
        "    \n",
        "    # loop over the input images\n",
        "    for imagePath in enumerate(imagePaths):\n",
        "        # load the image, pre-process it, and store it in the data list\n",
        "        image = cv2.imread(imagePath)\n",
        "        image = cv2.resize(image, (28, 28))\n",
        "        image = img_to_array(image)\n",
        "        data.append(image)\n",
        "\n",
        "        # extract the class label from the image path and update the\n",
        "        # labels list\n",
        "        label = imagePath.split(os.path.sep)[-2]\n",
        "\n",
        "\n",
        "        if label == \"NORMAL\":\n",
        "            label = 0\n",
        "        elif label == \"PNEUMONIA\":\n",
        "            label = 1\n",
        "        labels.append(label)\n",
        "        \n",
        "        # update the progressbar\n",
        "        pbar.update(1)"
      ],
      "metadata": {
        "colab": {
          "base_uri": "https://localhost:8080/",
          "height": 67,
          "referenced_widgets": [
            "071dc204c32b47a19cd0ba1687e24276",
            "589ee27639a44bca89f9d3f148e8fe82",
            "d39db2f55ce041b8b54dae0b1ee22c41",
            "667a45d0a9b6409db8b57583284a568f",
            "0a2a955911de4cc8b6f1658b9151860a",
            "fa447b19af5d4cf4a0c6932d49dbe84f",
            "bf8da6c0fcb74ec587fd5e790a416dcf",
            "2b7a440e31674b8bb6f86475cc6e6457",
            "563a17e8835c40f3a301dc99344583a9",
            "9d94909d5f594a948becc734ab6b2040",
            "caf0832f71d54fc2902e6d8b9c3b934f"
          ]
        },
        "id": "hKwTErUL_Akk",
        "outputId": "fe7bf520-7bf2-4f0f-8d89-499a4c5e2dae"
      },
      "execution_count": null,
      "outputs": [
        {
          "output_type": "stream",
          "name": "stdout",
          "text": [
            "[INFO] loading images...\n"
          ]
        },
        {
          "output_type": "display_data",
          "data": {
            "application/vnd.jupyter.widget-view+json": {
              "model_id": "071dc204c32b47a19cd0ba1687e24276",
              "version_minor": 0,
              "version_major": 2
            },
            "text/plain": [
              "  0%|          | 0/5216 [00:00<?, ?it/s]"
            ]
          },
          "metadata": {}
        }
      ]
    },
    {
      "cell_type": "code",
      "source": [
        "# scale the raw pixel intensities to the range [0, 1]\n",
        "data = np.array(data, dtype=\"float\") / 255.0\n",
        "labels = np.array(labels)"
      ],
      "metadata": {
        "id": "6Kx5OKPw_sUV"
      },
      "execution_count": null,
      "outputs": []
    },
    {
      "cell_type": "code",
      "source": [
        "print(len(data))\n",
        "print(len(labels))\n"
      ],
      "metadata": {
        "colab": {
          "base_uri": "https://localhost:8080/"
        },
        "id": "imK14mEXBpQZ",
        "outputId": "ef3d36ca-6d5c-44d9-f7f2-88c06916cc7c"
      },
      "execution_count": null,
      "outputs": [
        {
          "output_type": "stream",
          "name": "stdout",
          "text": [
            "5216\n",
            "5216\n"
          ]
        }
      ]
    },
    {
      "cell_type": "code",
      "source": [
        "# partition the data into training and testing splits using 75% of\n",
        "# the data for training and the remaining 25% for testing\n",
        "(trainX, testX, trainY, testY) = train_test_split(data, labels, test_size=0.25, random_state=42)"
      ],
      "metadata": {
        "id": "f_motoBzBssW"
      },
      "execution_count": null,
      "outputs": []
    },
    {
      "cell_type": "code",
      "source": [
        "print(\"Train x SHAPE: \", trainX.shape)\n",
        "print(\"Test x SHAPE: \", testX.shape)"
      ],
      "metadata": {
        "colab": {
          "base_uri": "https://localhost:8080/"
        },
        "id": "Mas4AJ1kBznf",
        "outputId": "df9ddb86-a824-4e9b-ef10-6767596f77b7"
      },
      "execution_count": null,
      "outputs": [
        {
          "output_type": "stream",
          "name": "stdout",
          "text": [
            "Train x SHAPE:  (3912, 28, 28, 3)\n",
            "Test x SHAPE:  (1304, 28, 28, 3)\n"
          ]
        }
      ]
    },
    {
      "cell_type": "code",
      "source": [
        "print(len(testY), len(trainY))"
      ],
      "metadata": {
        "colab": {
          "base_uri": "https://localhost:8080/"
        },
        "id": "8r0KWm7BB4DG",
        "outputId": "03fe10a4-f47b-4314-bf31-002f28fc85a5"
      },
      "execution_count": null,
      "outputs": [
        {
          "output_type": "stream",
          "name": "stdout",
          "text": [
            "1304 3912\n"
          ]
        }
      ]
    },
    {
      "cell_type": "code",
      "source": [
        "testY"
      ],
      "metadata": {
        "colab": {
          "base_uri": "https://localhost:8080/"
        },
        "id": "P1NukWF7B7Ek",
        "outputId": "6773acd0-c94b-4040-a34e-85eef367b570"
      },
      "execution_count": null,
      "outputs": [
        {
          "output_type": "execute_result",
          "data": {
            "text/plain": [
              "array([1, 1, 1, ..., 1, 1, 1])"
            ]
          },
          "metadata": {},
          "execution_count": 19
        }
      ]
    },
    {
      "cell_type": "code",
      "source": [
        "# convert the labels from integers to vectors\n",
        "trainY = to_categorical(trainY, num_classes=2)\n",
        "testY = to_categorical(testY, num_classes=2)"
      ],
      "metadata": {
        "id": "iV4FlA9GB-yp"
      },
      "execution_count": null,
      "outputs": []
    },
    {
      "cell_type": "code",
      "source": [
        "testY[:10]"
      ],
      "metadata": {
        "colab": {
          "base_uri": "https://localhost:8080/"
        },
        "id": "lveWk8pwCC15",
        "outputId": "20b1ee9b-c9d9-44ec-f768-3f6b72d9458d"
      },
      "execution_count": null,
      "outputs": [
        {
          "output_type": "execute_result",
          "data": {
            "text/plain": [
              "array([[0., 1.],\n",
              "       [0., 1.],\n",
              "       [0., 1.],\n",
              "       [0., 1.],\n",
              "       [0., 1.],\n",
              "       [0., 1.],\n",
              "       [0., 1.],\n",
              "       [0., 1.],\n",
              "       [0., 1.],\n",
              "       [1., 0.]], dtype=float32)"
            ]
          },
          "metadata": {},
          "execution_count": 21
        }
      ]
    },
    {
      "cell_type": "code",
      "source": [
        "# construct the image generator for data augmentation\n",
        "aug = ImageDataGenerator(rotation_range=30, \n",
        "                         width_shift_range=0.1, \n",
        "                         height_shift_range=0.1, \n",
        "                         shear_range=0.2, \n",
        "                         zoom_range=0.2, \n",
        "                         horizontal_flip=True, \n",
        "                         fill_mode=\"nearest\")"
      ],
      "metadata": {
        "id": "FHlIhmo8CFkE"
      },
      "execution_count": null,
      "outputs": []
    },
    {
      "cell_type": "code",
      "source": [
        "# initialize the model\n",
        "print(\"[INFO] compiling model...\")\n",
        "model = LeNet.build(width=28, height=28, depth=3, classes=2)\n",
        "opt = Adam()\n",
        "model.compile(loss=\"categorical_crossentropy\", optimizer=opt, metrics=[\"accuracy\"])\n",
        "\n",
        "print(\"[INFO] model complied...\")"
      ],
      "metadata": {
        "colab": {
          "base_uri": "https://localhost:8080/"
        },
        "id": "i5FiuP8iCOiz",
        "outputId": "ba15842d-9cd5-4f8b-fe21-f5fcd5e26e90"
      },
      "execution_count": null,
      "outputs": [
        {
          "output_type": "stream",
          "name": "stdout",
          "text": [
            "[INFO] compiling model...\n",
            "[INFO] model complied...\n"
          ]
        }
      ]
    },
    {
      "cell_type": "code",
      "source": [
        "model.summary()"
      ],
      "metadata": {
        "colab": {
          "base_uri": "https://localhost:8080/"
        },
        "id": "bxkUOL2vCTmL",
        "outputId": "eabe948d-2b0b-44b3-a9ab-09e03c857d27"
      },
      "execution_count": null,
      "outputs": [
        {
          "output_type": "stream",
          "name": "stdout",
          "text": [
            "Model: \"sequential\"\n",
            "_________________________________________________________________\n",
            " Layer (type)                Output Shape              Param #   \n",
            "=================================================================\n",
            " conv2d (Conv2D)             (None, 28, 28, 20)        1520      \n",
            "                                                                 \n",
            " activation (Activation)     (None, 28, 28, 20)        0         \n",
            "                                                                 \n",
            " max_pooling2d (MaxPooling2D  (None, 14, 14, 20)       0         \n",
            " )                                                               \n",
            "                                                                 \n",
            " conv2d_1 (Conv2D)           (None, 14, 14, 50)        25050     \n",
            "                                                                 \n",
            " activation_1 (Activation)   (None, 14, 14, 50)        0         \n",
            "                                                                 \n",
            " max_pooling2d_1 (MaxPooling  (None, 7, 7, 50)         0         \n",
            " 2D)                                                             \n",
            "                                                                 \n",
            " flatten (Flatten)           (None, 2450)              0         \n",
            "                                                                 \n",
            " dense (Dense)               (None, 500)               1225500   \n",
            "                                                                 \n",
            " activation_2 (Activation)   (None, 500)               0         \n",
            "                                                                 \n",
            " dense_1 (Dense)             (None, 100)               50100     \n",
            "                                                                 \n",
            " activation_3 (Activation)   (None, 100)               0         \n",
            "                                                                 \n",
            " dense_2 (Dense)             (None, 2)                 202       \n",
            "                                                                 \n",
            " activation_4 (Activation)   (None, 2)                 0         \n",
            "                                                                 \n",
            "=================================================================\n",
            "Total params: 1,302,372\n",
            "Trainable params: 1,302,372\n",
            "Non-trainable params: 0\n",
            "_________________________________________________________________\n"
          ]
        }
      ]
    },
    {
      "cell_type": "code",
      "source": [
        "EPOCHS = 30\n",
        "BS = 11\n",
        "# train the network\n",
        "print(\"[INFO] training network...\")\n",
        "H = model.fit(x=aug.flow(trainX, trainY, batch_size=BS),\n",
        "              validation_data=(testX, testY), \n",
        "              steps_per_epoch=len(trainX) // BS,\n",
        "              epochs=EPOCHS, \n",
        "              verbose=1)"
      ],
      "metadata": {
        "colab": {
          "base_uri": "https://localhost:8080/"
        },
        "id": "f3mpKM6ICXFC",
        "outputId": "13568e11-6623-42e3-d24d-f24a8344dc84"
      },
      "execution_count": null,
      "outputs": [
        {
          "output_type": "stream",
          "name": "stdout",
          "text": [
            "[INFO] training network...\n",
            "Epoch 1/30\n",
            "355/355 [==============================] - 15s 14ms/step - loss: 0.5557 - accuracy: 0.7465 - val_loss: 0.4796 - val_accuracy: 0.7431\n",
            "Epoch 2/30\n",
            "355/355 [==============================] - 5s 13ms/step - loss: 0.3897 - accuracy: 0.8208 - val_loss: 0.3795 - val_accuracy: 0.8183\n",
            "Epoch 3/30\n",
            "355/355 [==============================] - 5s 13ms/step - loss: 0.3245 - accuracy: 0.8621 - val_loss: 0.2892 - val_accuracy: 0.8727\n",
            "Epoch 4/30\n",
            "355/355 [==============================] - 5s 13ms/step - loss: 0.3004 - accuracy: 0.8736 - val_loss: 0.2771 - val_accuracy: 0.8811\n",
            "Epoch 5/30\n",
            "355/355 [==============================] - 4s 12ms/step - loss: 0.2650 - accuracy: 0.8775 - val_loss: 0.1768 - val_accuracy: 0.9379\n",
            "Epoch 6/30\n",
            "355/355 [==============================] - 4s 12ms/step - loss: 0.2565 - accuracy: 0.8962 - val_loss: 0.2812 - val_accuracy: 0.8804\n",
            "Epoch 7/30\n",
            "355/355 [==============================] - 5s 13ms/step - loss: 0.2578 - accuracy: 0.8870 - val_loss: 0.2042 - val_accuracy: 0.9187\n",
            "Epoch 8/30\n",
            "355/355 [==============================] - 4s 13ms/step - loss: 0.2396 - accuracy: 0.8987 - val_loss: 0.1831 - val_accuracy: 0.9371\n",
            "Epoch 9/30\n",
            "355/355 [==============================] - 4s 13ms/step - loss: 0.2385 - accuracy: 0.9031 - val_loss: 0.2207 - val_accuracy: 0.9103\n",
            "Epoch 10/30\n",
            "355/355 [==============================] - 5s 13ms/step - loss: 0.2281 - accuracy: 0.9059 - val_loss: 0.1561 - val_accuracy: 0.9448\n",
            "Epoch 11/30\n",
            "355/355 [==============================] - 4s 13ms/step - loss: 0.2165 - accuracy: 0.9093 - val_loss: 0.1789 - val_accuracy: 0.9387\n",
            "Epoch 12/30\n",
            "355/355 [==============================] - 4s 13ms/step - loss: 0.2197 - accuracy: 0.9077 - val_loss: 0.3725 - val_accuracy: 0.8359\n",
            "Epoch 13/30\n",
            "355/355 [==============================] - 4s 13ms/step - loss: 0.2005 - accuracy: 0.9149 - val_loss: 0.2766 - val_accuracy: 0.8804\n",
            "Epoch 14/30\n",
            "355/355 [==============================] - 4s 13ms/step - loss: 0.2090 - accuracy: 0.9134 - val_loss: 0.1365 - val_accuracy: 0.9525\n",
            "Epoch 15/30\n",
            "355/355 [==============================] - 5s 13ms/step - loss: 0.1920 - accuracy: 0.9187 - val_loss: 0.1871 - val_accuracy: 0.9248\n",
            "Epoch 16/30\n",
            "355/355 [==============================] - 5s 13ms/step - loss: 0.2011 - accuracy: 0.9172 - val_loss: 0.1794 - val_accuracy: 0.9279\n",
            "Epoch 17/30\n",
            "355/355 [==============================] - 5s 13ms/step - loss: 0.1883 - accuracy: 0.9218 - val_loss: 0.2552 - val_accuracy: 0.8926\n",
            "Epoch 18/30\n",
            "355/355 [==============================] - 4s 12ms/step - loss: 0.1815 - accuracy: 0.9267 - val_loss: 0.2214 - val_accuracy: 0.9087\n",
            "Epoch 19/30\n",
            "355/355 [==============================] - 4s 13ms/step - loss: 0.1931 - accuracy: 0.9246 - val_loss: 0.1910 - val_accuracy: 0.9195\n",
            "Epoch 20/30\n",
            "355/355 [==============================] - 4s 12ms/step - loss: 0.1864 - accuracy: 0.9218 - val_loss: 0.2432 - val_accuracy: 0.8934\n",
            "Epoch 21/30\n",
            "355/355 [==============================] - 4s 13ms/step - loss: 0.1749 - accuracy: 0.9241 - val_loss: 0.1484 - val_accuracy: 0.9356\n",
            "Epoch 22/30\n",
            "355/355 [==============================] - 4s 13ms/step - loss: 0.1899 - accuracy: 0.9208 - val_loss: 0.2395 - val_accuracy: 0.8919\n",
            "Epoch 23/30\n",
            "355/355 [==============================] - 4s 13ms/step - loss: 0.1894 - accuracy: 0.9226 - val_loss: 0.1471 - val_accuracy: 0.9402\n",
            "Epoch 24/30\n",
            "355/355 [==============================] - 4s 13ms/step - loss: 0.1727 - accuracy: 0.9285 - val_loss: 0.1768 - val_accuracy: 0.9271\n",
            "Epoch 25/30\n",
            "355/355 [==============================] - 5s 13ms/step - loss: 0.1736 - accuracy: 0.9298 - val_loss: 0.1207 - val_accuracy: 0.9540\n",
            "Epoch 26/30\n",
            "355/355 [==============================] - 5s 13ms/step - loss: 0.1721 - accuracy: 0.9262 - val_loss: 0.1231 - val_accuracy: 0.9532\n",
            "Epoch 27/30\n",
            "355/355 [==============================] - 5s 13ms/step - loss: 0.1710 - accuracy: 0.9303 - val_loss: 0.1861 - val_accuracy: 0.9179\n",
            "Epoch 28/30\n",
            "355/355 [==============================] - 4s 12ms/step - loss: 0.1646 - accuracy: 0.9331 - val_loss: 0.1800 - val_accuracy: 0.9172\n",
            "Epoch 29/30\n",
            "355/355 [==============================] - 5s 13ms/step - loss: 0.1591 - accuracy: 0.9357 - val_loss: 0.2753 - val_accuracy: 0.8719\n",
            "Epoch 30/30\n",
            "355/355 [==============================] - 4s 13ms/step - loss: 0.1736 - accuracy: 0.9318 - val_loss: 0.2511 - val_accuracy: 0.8995\n"
          ]
        }
      ]
    },
    {
      "cell_type": "code",
      "source": [
        "# save the model and label binarizer to disk\n",
        "print(\"[INFO] serializing network and label binarizer...\")\n",
        "model.save('model_PNEUMONIA.h5')"
      ],
      "metadata": {
        "id": "C2JxhlZyCegT",
        "colab": {
          "base_uri": "https://localhost:8080/"
        },
        "outputId": "5958b951-4886-4f3e-d782-09518a32c8b5"
      },
      "execution_count": null,
      "outputs": [
        {
          "output_type": "stream",
          "name": "stdout",
          "text": [
            "[INFO] serializing network and label binarizer...\n"
          ]
        }
      ]
    },
    {
      "cell_type": "code",
      "source": [
        "# plot the training and validation loss\n",
        "N = np.arange(0, EPOCHS)\n",
        "plt.style.use(\"ggplot\")\n",
        "plt.figure(figsize = [10,8])\n",
        "plt.plot(N, H.history[\"loss\"], label=\"train_loss\")\n",
        "plt.plot(N, H.history[\"val_loss\"], label=\"val_loss\")\n",
        "plt.title(\"CNN: Training & Validation Loss\")\n",
        "plt.xlabel(\"Epoch #\", weight=\"bold\")\n",
        "plt.ylabel(\"Loss\", weight=\"bold\")\n",
        "plt.legend()\n",
        "plt.show()"
      ],
      "metadata": {
        "id": "QqRpd1EbGIgS",
        "colab": {
          "base_uri": "https://localhost:8080/",
          "height": 517
        },
        "outputId": "7467bf89-1836-46b6-f28f-e6e28cb94361"
      },
      "execution_count": null,
      "outputs": [
        {
          "output_type": "display_data",
          "data": {
            "image/png": "[encoded data removed]",
            "text/plain": [
              "<Figure size 720x576 with 1 Axes>"
            ]
          },
          "metadata": {}
        }
      ]
    },
    {
      "cell_type": "code",
      "source": [
        "# plot the training and validation accuracy\n",
        "N = np.arange(0, EPOCHS)\n",
        "plt.style.use(\"ggplot\")\n",
        "plt.figure(figsize = [10,8])\n",
        "plt.plot(N, H.history[\"accuracy\"], label=\"train_acc\")\n",
        "plt.plot(N, H.history[\"val_accuracy\"], label=\"val_acc\")\n",
        "plt.title(\"CNN: Training and Validation Accuracy\")\n",
        "plt.xlabel(\"Epoch #\", weight=\"bold\")\n",
        "plt.ylabel(\"Accuracy\", weight=\"bold\")\n",
        "plt.legend()\n",
        "plt.show()"
      ],
      "metadata": {
        "id": "a4YbvmtaGMRJ",
        "colab": {
          "base_uri": "https://localhost:8080/",
          "height": 517
        },
        "outputId": "50df57e1-0e50-4e48-efe5-f77b4c63202e"
      },
      "execution_count": null,
      "outputs": [
        {
          "output_type": "display_data",
          "data": {
            "image/png": "[encoded data removed]",
            "text/plain": [
              "<Figure size 720x576 with 1 Axes>"
            ]
          },
          "metadata": {}
        }
      ]
    },
    {
      "cell_type": "code",
      "source": [
        ""
      ],
      "metadata": {
        "id": "vtxHQaR0GRxS"
      },
      "execution_count": null,
      "outputs": []
    },
    {
      "cell_type": "code",
      "source": [
        ""
      ],
      "metadata": {
        "id": "NeBxTd3WGYTv"
      },
      "execution_count": null,
      "outputs": []
    },
    {
      "cell_type": "code",
      "source": [
        ""
      ],
      "metadata": {
        "id": "JxaHCc9PH3mD"
      },
      "execution_count": null,
      "outputs": []
    },
    {
      "cell_type": "code",
      "source": [
        ""
      ],
      "metadata": {
        "id": "zLJVaWpY30Id"
      },
      "execution_count": null,
      "outputs": []
    },
    {
      "cell_type": "code",
      "source": [
        ""
      ],
      "metadata": {
        "colab": {
          "base_uri": "https://localhost:8080/"
        },
        "id": "jdjcB3OI36YX",
        "outputId": "b866f1d5-9331-4da7-fd55-7b636e916dc1"
      },
      "execution_count": null,
      "outputs": [
        {
          "output_type": "stream",
          "name": "stdout",
          "text": [
            "2.0.0\n"
          ]
        }
      ]
    },
    {
      "cell_type": "code",
      "source": [
        ""
      ],
      "metadata": {
        "id": "mZlH5BJo39DP"
      },
      "execution_count": null,
      "outputs": []
    },
    {
      "cell_type": "code",
      "source": [
        ""
      ],
      "metadata": {
        "id": "GfCdFcJz4Gcy"
      },
      "execution_count": null,
      "outputs": []
    },
    {
      "cell_type": "code",
      "source": [
        ""
      ],
      "metadata": {
        "id": "McWIK2Gu4KE4"
      },
      "execution_count": null,
      "outputs": []
    },
    {
      "cell_type": "code",
      "source": [
        ""
      ],
      "metadata": {
        "id": "XK1LmVyw4TMS"
      },
      "execution_count": null,
      "outputs": []
    },
    {
      "cell_type": "code",
      "source": [
        ""
      ],
      "metadata": {
        "id": "bd5F0XAO4Whz"
      },
      "execution_count": null,
      "outputs": []
    },
    {
      "cell_type": "code",
      "source": [
        ""
      ],
      "metadata": {
        "id": "NseyN6yd64K4"
      },
      "execution_count": null,
      "outputs": []
    },
    {
      "cell_type": "code",
      "source": [
        ""
      ],
      "metadata": {
        "id": "TNyiA8tP7knm"
      },
      "execution_count": null,
      "outputs": []
    },
    {
      "cell_type": "code",
      "source": [
        ""
      ],
      "metadata": {
        "id": "q8diJrrH7vBA"
      },
      "execution_count": null,
      "outputs": []
    }
  ]
}